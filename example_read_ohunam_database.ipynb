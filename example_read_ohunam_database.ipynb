{
 "cells": [
  {
   "cell_type": "markdown",
   "id": "a196f343",
   "metadata": {},
   "source": [
    "# Scientific Data\n",
    "\n",
    "**A spatio-temporal high-resolution precipitation dataset for Mexico City derived from optical disdrometers and weighting rain gauges**\n",
    "\n",
    "**Authors:**\n",
    "\n",
    "*Adrián Pedrozo-Acuña, José Agustín Breña-Naranjo, Pamela Iskra Mejía-Estrada, Mauricio Osorio-González, Saúl Arciniega-Esparza1, Jorge Blanco-Figueroa1, Jorge Alberto Magos-Hernández, Juan Alejandro Sánchez-Peralta*\n",
    "\n",
    "\n",
    "## Description\n",
    "\n",
    "Example of How To Read the OH-IIUNAM database of recipitation at high-temporal resolution.\n",
    "\n",
    "The data files can be downloadad from: [Scientific Data Repository](https://www.oh-iiunam.mx/)\n",
    "\n",
    "This database has been converted to NetCDF, but real-time data can be donloaded from: https://www.oh-iiunam.mx/\n",
    "\n"
   ]
  },
  {
   "cell_type": "markdown",
   "id": "ae6f4db3",
   "metadata": {},
   "source": [
    "### Requirements\n",
    "\n",
    "OH database has been converted to NetCDF, and can be readed by any library that works with such files. However, we highly recomended [xarray](http://xarray.pydata.org/en/stable/) for such purpose. \n"
   ]
  },
  {
   "cell_type": "code",
   "execution_count": null,
   "id": "61bfda7e",
   "metadata": {},
   "outputs": [],
   "source": [
    "import numpy as np\n",
    "import pandas as pd\n",
    "import xarray as xr\n",
    "\n",
    "import matplotlib.pyplot as plt"
   ]
  },
  {
   "cell_type": "markdown",
   "id": "d0cbaa98",
   "metadata": {},
   "source": [
    "## How to read a Disdrometer data file\n",
    "\n",
    "First, we must use xarray to connect with the netCDF:"
   ]
  },
  {
   "cell_type": "code",
   "execution_count": null,
   "id": "f030ccbb",
   "metadata": {},
   "outputs": [],
   "source": [
    "filename = r\"~/DISDRO_IIUNAM.nc\"  # inser the full filename\n",
    "dataset = xr.open_dataset(filename)\n",
    "dataset"
   ]
  },
  {
   "cell_type": "markdown",
   "id": "d34dd6bf",
   "metadata": {},
   "source": [
    "To extract the variables' name you can use:"
   ]
  },
  {
   "cell_type": "code",
   "execution_count": null,
   "id": "f4807b48",
   "metadata": {},
   "outputs": [],
   "source": [
    "varnames = list(dataset.variables.keys())\n",
    "varnames"
   ]
  },
  {
   "cell_type": "markdown",
   "id": "d8b41a49",
   "metadata": {},
   "source": [
    "Just select a variable name and use the following example to read the timeseries:"
   ]
  },
  {
   "cell_type": "code",
   "execution_count": null,
   "id": "2ca4bdd3",
   "metadata": {},
   "outputs": [],
   "source": [
    "varname = \"intensity\"\n",
    "data  = dataset[varname]  # extract data\n",
    "serie = data.to_pandas()  # convert to pandas serie\n",
    "prec = serie / 60         # conver to rain amount by minute"
   ]
  },
  {
   "cell_type": "markdown",
   "id": "1a07a549",
   "metadata": {},
   "source": [
    "Data can be ploted as DataArray of xarray or as Serie from Pandas:"
   ]
  },
  {
   "cell_type": "code",
   "execution_count": null,
   "id": "c5f98ca1",
   "metadata": {},
   "outputs": [],
   "source": [
    "fig, ax = plt.subplots(figsize=(7, 3.5))\n",
    "data.plot(ax=ax, linewidth=0.8)\n",
    "ax.grid(True)\n",
    "ax.set_xlabel(\"\")\n",
    "fig.tight_layout()"
   ]
  },
  {
   "cell_type": "markdown",
   "id": "a3062ac2",
   "metadata": {},
   "source": [
    "Rainfall spectrum from Disdrometers can be visualized using a  2D histogram:"
   ]
  },
  {
   "cell_type": "code",
   "execution_count": null,
   "id": "ee88b5d4",
   "metadata": {},
   "outputs": [],
   "source": [
    "date     = \"2018-08-30 18:20\"\n",
    "spectrum = dataset[\"spectrum\"].loc[date, :, :]\n",
    "fig, ax = plt.subplots()\n",
    "spectrum.plot(cmap=\"Spectral_r\", ax=ax)\n",
    "ax.set_xlim(0, 6)\n",
    "ax.set_ylim(0, 10)\n",
    "fig.tight_layout()"
   ]
  },
  {
   "cell_type": "markdown",
   "id": "5e326c6e",
   "metadata": {},
   "source": [
    "Multidimensional variables can be analyzed in a fashion way in xarray.\n",
    "\n",
    "Here you have an example of how to plot the rainfall spectrum for a date range:"
   ]
  },
  {
   "cell_type": "code",
   "execution_count": null,
   "id": "6e93af90",
   "metadata": {},
   "outputs": [],
   "source": [
    "start_date = \"2018-08-30 00:00\"\n",
    "end_date   = \"2018-08-30 23:59\"\n",
    "\n",
    "# sum drops in a date range\n",
    "spectrum = dataset[\"spectrum\"].loc[start_date:end_date, :, :].sum(dim=\"time\")\n",
    "\n",
    "# plot data\n",
    "fig, ax = plt.subplots()\n",
    "spectrum.plot(cmap=\"Spectral_r\", ax=ax)\n",
    "ax.set_xlim(0, 6)\n",
    "ax.set_ylim(0, 10)\n",
    "fig.tight_layout()"
   ]
  },
  {
   "cell_type": "markdown",
   "id": "9a539f5f",
   "metadata": {},
   "source": [
    "Close dataset connection. **This is always recomended with NetCDF**"
   ]
  },
  {
   "cell_type": "code",
   "execution_count": null,
   "id": "80dc5c63",
   "metadata": {},
   "outputs": [],
   "source": [
    "dataset.close()"
   ]
  },
  {
   "cell_type": "markdown",
   "id": "9ca4e8a4",
   "metadata": {},
   "source": [
    "## How to read a Pluviometer data file\n",
    "\n",
    "The dada structure of Pluviometer and Disdrometers is similar the difference is the variables stored in each database."
   ]
  },
  {
   "cell_type": "code",
   "execution_count": null,
   "id": "2303fe53",
   "metadata": {},
   "outputs": [],
   "source": [
    "filename = r\"~/PLUVIO_PREPA2.nc\"  # inser the full filename\n",
    "dataset = xr.open_dataset(filename)\n",
    "dataset"
   ]
  },
  {
   "cell_type": "markdown",
   "id": "0ec701df",
   "metadata": {},
   "source": [
    "To extract the variables' name you can use:"
   ]
  },
  {
   "cell_type": "code",
   "execution_count": null,
   "id": "d85c7573",
   "metadata": {},
   "outputs": [],
   "source": [
    "varnames = list(dataset.variables.keys())\n",
    "varnames"
   ]
  },
  {
   "cell_type": "markdown",
   "id": "e541b0f0",
   "metadata": {},
   "source": [
    "Just select a variable name and use the following example to read the timeseries:"
   ]
  },
  {
   "cell_type": "code",
   "execution_count": null,
   "id": "f8838a68",
   "metadata": {},
   "outputs": [],
   "source": [
    "varname = \"intensity\"\n",
    "data  = dataset[varname]  # extract data\n",
    "serie = data.to_pandas()  # convert to pandas serie"
   ]
  },
  {
   "cell_type": "markdown",
   "id": "2f32c1d8",
   "metadata": {},
   "source": [
    "If you need ignore unreal data ranges, only follow the next example:"
   ]
  },
  {
   "cell_type": "code",
   "execution_count": null,
   "id": "efc7fbe8",
   "metadata": {},
   "outputs": [],
   "source": [
    "mask        = serie > 400  # unreal intensity values over 400 mm/hr\n",
    "serie[mask] = np.nan       # set unreal values as nan\n",
    "prec        = serie / 60   # conver to rain amount by minute"
   ]
  },
  {
   "cell_type": "markdown",
   "id": "d87821f6",
   "metadata": {},
   "source": [
    "An now plot the results:"
   ]
  },
  {
   "cell_type": "code",
   "execution_count": null,
   "id": "69f033d8",
   "metadata": {},
   "outputs": [],
   "source": [
    "fig, ax = plt.subplots(figsize=(7, 3.5))\n",
    "prec.plot(ax=ax, linewidth=0.8)\n",
    "ax.grid(True)\n",
    "ax.set_xlabel(\"\")\n",
    "ax.set_ylabel(\"Precipitation [mm]\")\n",
    "fig.tight_layout()"
   ]
  },
  {
   "cell_type": "markdown",
   "id": "ca331ae9",
   "metadata": {},
   "source": [
    "Don't forget to close the netCDF connection."
   ]
  },
  {
   "cell_type": "code",
   "execution_count": null,
   "id": "2475efd5",
   "metadata": {},
   "outputs": [],
   "source": [
    "dataset.close()"
   ]
  }
 ],
 "metadata": {
  "kernelspec": {
   "display_name": "Python 3",
   "language": "python",
   "name": "python3"
  },
  "language_info": {
   "codemirror_mode": {
    "name": "ipython",
    "version": 3
   },
   "file_extension": ".py",
   "mimetype": "text/x-python",
   "name": "python",
   "nbconvert_exporter": "python",
   "pygments_lexer": "ipython3",
   "version": "3.7.9"
  }
 },
 "nbformat": 4,
 "nbformat_minor": 5
}
