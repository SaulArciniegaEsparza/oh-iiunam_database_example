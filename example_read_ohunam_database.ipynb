{
 "cells": [
  {
   "cell_type": "markdown",
   "id": "3877763c",
   "metadata": {},
   "source": [
    "# Scientific Data\n",
    "\n",
    "**A spatio-temporal high-resolution precipitation dataset for Mexico City derived from optical disdrometers and weighting rain gauges**\n",
    "\n",
    "**Authors:**\n",
    "\n",
    "*Adrián Pedrozo-Acuña, José Agustín Breña-Naranjo, Pamela Iskra Mejía-Estrada, Mauricio Osorio-González, Saúl Arciniega-Esparza, Jorge Blanco-Figueroa, Jorge Alberto Magos-Hernández, Juan Alejandro Sánchez-Peralta*\n",
    "\n",
    "DOI: *In Progress...*\n",
    "\n",
    "\n",
    "## Description\n",
    "\n",
    "Example of How To Read the OH-IIUNAM database of recipitation at high-temporal resolution.\n",
    "\n",
    "The netCDF with the historical records can be downloadad from [Zenodo](https://doi.org/10.5281/zenodo.5098275).\n",
    "\n",
    "The real-time data can be donloaded from: https://www.oh-iiunam.mx/\n"
   ]
  },
  {
   "cell_type": "markdown",
   "id": "74ce2219",
   "metadata": {},
   "source": [
    "### Requirements\n",
    "\n",
    "OH database has been converted to NetCDF, and can be readed by any library that works with such files. However, we highly recomended [xarray](http://xarray.pydata.org/en/stable/) for such purpose. \n"
   ]
  },
  {
   "cell_type": "code",
   "execution_count": null,
   "id": "036452cd",
   "metadata": {},
   "outputs": [],
   "source": [
    "import numpy as np\n",
    "import pandas as pd\n",
    "import xarray as xr\n",
    "\n",
    "import matplotlib.pyplot as plt"
   ]
  },
  {
   "cell_type": "markdown",
   "id": "5e5a448f",
   "metadata": {},
   "source": [
    "## How to read a Disdrometer data file\n",
    "\n",
    "First, we must use xarray to connect with the netCDF:"
   ]
  },
  {
   "cell_type": "code",
   "execution_count": null,
   "id": "f65b259b",
   "metadata": {},
   "outputs": [],
   "source": [
    "filename = r\"~/DISDRO_IIUNAM.nc\"  # inser the full filename\n",
    "dataset = xr.open_dataset(filename)\n",
    "dataset"
   ]
  },
  {
   "cell_type": "markdown",
   "id": "f320a36a",
   "metadata": {},
   "source": [
    "To extract the variables' name you can use:"
   ]
  },
  {
   "cell_type": "code",
   "execution_count": null,
   "id": "55c2012e",
   "metadata": {},
   "outputs": [],
   "source": [
    "varnames = list(dataset.variables.keys())\n",
    "varnames"
   ]
  },
  {
   "cell_type": "markdown",
   "id": "d08231c4",
   "metadata": {},
   "source": [
    "Just select a variable name and use the following example to read the timeseries:"
   ]
  },
  {
   "cell_type": "code",
   "execution_count": null,
   "id": "6a0aa24e",
   "metadata": {},
   "outputs": [],
   "source": [
    "varname = \"intensity\"\n",
    "data  = dataset[varname]  # extract data\n",
    "serie = data.to_pandas()  # convert to pandas serie\n",
    "prec = serie / 60         # conver to rain amount by minute"
   ]
  },
  {
   "cell_type": "markdown",
   "id": "fb071e2b",
   "metadata": {},
   "source": [
    "Data can be ploted as DataArray of xarray or as Serie from Pandas:"
   ]
  },
  {
   "cell_type": "code",
   "execution_count": null,
   "id": "144aaf41",
   "metadata": {},
   "outputs": [],
   "source": [
    "fig, ax = plt.subplots(figsize=(7, 3.5))\n",
    "data.plot(ax=ax, linewidth=0.8)\n",
    "ax.grid(True)\n",
    "ax.set_xlabel(\"\")\n",
    "fig.tight_layout()"
   ]
  },
  {
   "cell_type": "markdown",
   "id": "d719ac8f",
   "metadata": {},
   "source": [
    "Rainfall spectrum from Disdrometers can be visualized using a  2D histogram:"
   ]
  },
  {
   "cell_type": "code",
   "execution_count": null,
   "id": "b7653619",
   "metadata": {},
   "outputs": [],
   "source": [
    "date     = \"2018-08-30 18:20\"\n",
    "spectrum = dataset[\"spectrum\"].loc[date, :, :]\n",
    "fig, ax = plt.subplots()\n",
    "spectrum.plot(cmap=\"Spectral_r\", ax=ax)\n",
    "ax.set_xlim(0, 6)\n",
    "ax.set_ylim(0, 10)\n",
    "fig.tight_layout()"
   ]
  },
  {
   "cell_type": "markdown",
   "id": "2be3ec8e",
   "metadata": {},
   "source": [
    "Multidimensional variables can be analyzed in a fashion way in xarray.\n",
    "\n",
    "Here you have an example of how to plot the rainfall spectrum for a date range:"
   ]
  },
  {
   "cell_type": "code",
   "execution_count": null,
   "id": "bcff768e",
   "metadata": {},
   "outputs": [],
   "source": [
    "start_date = \"2018-08-30 00:00\"\n",
    "end_date   = \"2018-08-30 23:59\"\n",
    "\n",
    "# sum drops in a date range\n",
    "spectrum = dataset[\"spectrum\"].loc[start_date:end_date, :, :].sum(dim=\"time\")\n",
    "\n",
    "# plot data\n",
    "fig, ax = plt.subplots()\n",
    "spectrum.plot(cmap=\"Spectral_r\", ax=ax)\n",
    "ax.set_xlim(0, 6)\n",
    "ax.set_ylim(0, 10)\n",
    "fig.tight_layout()"
   ]
  },
  {
   "cell_type": "markdown",
   "id": "f6248a56",
   "metadata": {},
   "source": [
    "Close dataset connection. **This is always recomended with NetCDF**"
   ]
  },
  {
   "cell_type": "code",
   "execution_count": null,
   "id": "5a5996ab",
   "metadata": {},
   "outputs": [],
   "source": [
    "dataset.close()"
   ]
  },
  {
   "cell_type": "markdown",
   "id": "539ed320",
   "metadata": {},
   "source": [
    "## How to read a Pluviometer data file\n",
    "\n",
    "The dada structure of Pluviometer and Disdrometers is similar the difference is the variables stored in each database."
   ]
  },
  {
   "cell_type": "code",
   "execution_count": null,
   "id": "ce353db0",
   "metadata": {},
   "outputs": [],
   "source": [
    "filename = r\"~/PLUVIO_PREPA2.nc\"  # inser the full filename\n",
    "dataset = xr.open_dataset(filename)\n",
    "dataset"
   ]
  },
  {
   "cell_type": "markdown",
   "id": "500db252",
   "metadata": {},
   "source": [
    "To extract the variables' name you can use:"
   ]
  },
  {
   "cell_type": "code",
   "execution_count": null,
   "id": "d765e771",
   "metadata": {},
   "outputs": [],
   "source": [
    "varnames = list(dataset.variables.keys())\n",
    "varnames"
   ]
  },
  {
   "cell_type": "markdown",
   "id": "e71f6858",
   "metadata": {},
   "source": [
    "Just select a variable name and use the following example to read the timeseries:"
   ]
  },
  {
   "cell_type": "code",
   "execution_count": null,
   "id": "27921bde",
   "metadata": {},
   "outputs": [],
   "source": [
    "varname = \"intensity\"\n",
    "data  = dataset[varname]  # extract data\n",
    "serie = data.to_pandas()  # convert to pandas serie"
   ]
  },
  {
   "cell_type": "markdown",
   "id": "584df5d2",
   "metadata": {},
   "source": [
    "If you need ignore unreal data ranges, only follow the next example:"
   ]
  },
  {
   "cell_type": "code",
   "execution_count": null,
   "id": "01cf85f7",
   "metadata": {},
   "outputs": [],
   "source": [
    "mask        = serie > 400  # unreal intensity values over 400 mm/hr\n",
    "serie[mask] = np.nan       # set unreal values as nan\n",
    "prec        = serie / 60   # conver to rain amount by minute"
   ]
  },
  {
   "cell_type": "markdown",
   "id": "de8496da",
   "metadata": {},
   "source": [
    "An now plot the results:"
   ]
  },
  {
   "cell_type": "code",
   "execution_count": null,
   "id": "667dc32e",
   "metadata": {},
   "outputs": [],
   "source": [
    "fig, ax = plt.subplots(figsize=(7, 3.5))\n",
    "prec.plot(ax=ax, linewidth=0.8)\n",
    "ax.grid(True)\n",
    "ax.set_xlabel(\"\")\n",
    "ax.set_ylabel(\"Precipitation [mm]\")\n",
    "fig.tight_layout()"
   ]
  },
  {
   "cell_type": "markdown",
   "id": "258b26fd",
   "metadata": {},
   "source": [
    "Don't forget to close the netCDF connection."
   ]
  },
  {
   "cell_type": "code",
   "execution_count": null,
   "id": "5ace7298",
   "metadata": {},
   "outputs": [],
   "source": [
    "dataset.close()"
   ]
  }
 ],
 "metadata": {
  "kernelspec": {
   "display_name": "Python 3",
   "language": "python",
   "name": "python3"
  },
  "language_info": {
   "codemirror_mode": {
    "name": "ipython",
    "version": 3
   },
   "file_extension": ".py",
   "mimetype": "text/x-python",
   "name": "python",
   "nbconvert_exporter": "python",
   "pygments_lexer": "ipython3",
   "version": "3.7.9"
  }
 },
 "nbformat": 4,
 "nbformat_minor": 5
}
